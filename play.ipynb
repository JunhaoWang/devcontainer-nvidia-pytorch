{
 "cells": [
  {
   "cell_type": "code",
   "execution_count": 79,
   "metadata": {},
   "outputs": [],
   "source": [
    "from urllib.parse import urlparse\n",
    "import re"
   ]
  },
  {
   "cell_type": "code",
   "execution_count": 80,
   "metadata": {},
   "outputs": [],
   "source": [
    "# Parse Pinterest board URL to extract board name\n",
    "def parse_board_name(url: str) -> str:\n",
    "    parsed_url = urlparse(url)\n",
    "    path_match = re.search(r\"\\.com/([^/]+)/([^/]+)/\", parsed_url.geturl())\n",
    "    if path_match:\n",
    "        return f\"{path_match.group(1)}/{path_match.group(2)}\"\n",
    "    else:\n",
    "        raise ValueError(\"Invalid Pinterest board URL format\")"
   ]
  },
  {
   "cell_type": "code",
   "execution_count": 81,
   "metadata": {},
   "outputs": [
    {
     "data": {
      "text/plain": [
       "'sandramedinadom/bedroom-inspiration'"
      ]
     },
     "execution_count": 81,
     "metadata": {},
     "output_type": "execute_result"
    }
   ],
   "source": [
    "parse_board_name(\"https://es.pinterest.com/sandramedinadom/bedroom-inspiration/?invite_code=3891d52d47ce49d49e64512fc53ed142&sender=424464471038145989\")"
   ]
  },
  {
   "cell_type": "code",
   "execution_count": 1,
   "metadata": {},
   "outputs": [
    {
     "name": "stdout",
     "output_type": "stream",
     "text": [
      "[i] User Agent: Mozilla/5.0 (Windows NT 10.0; Win64; x64) AppleWebKit/537.36 (KHTML, like Gecko) Chrome/122.0.0.0 Safari/537.36\n",
      "[i] Job is download single board by username/boardname: sandramedinadom/city-clothes\n",
      "[...] Getting all boards [ 99 / ? ][➕] Found 115 Boards.\n",
      "[...] Getting all images in this board: city-clothes ... [ 307 / ? ] [➕] Found 316 image/videos\n",
      "Download into directory:  images/sandramedinadom/city-clothes/\n"
     ]
    }
   ],
   "source": [
    "board_name = 'sandramedinadom/city-clothes'\n",
    "kwargs = {'arg_path': board_name, 'arg_dir': 'images', 'arg_thread_max': 0, \n",
    " 'arg_cut': -1, 'arg_board_timestamp': False, 'arg_log_timestamp': False, \n",
    " 'arg_force': False, 'arg_exclude_section': False, 'arg_rescrape': False, \n",
    " 'arg_img_only': False, 'arg_v_only': False, 'arg_update_all': False, \n",
    " 'arg_https_proxy': None, 'arg_http_proxy': None, 'arg_cookies': None}\n",
    "\n",
    "\n",
    "import importlib.util\n",
    "import sys\n",
    "\n",
    "# Define the path to the pinterest-downloader.py file\n",
    "file_path = './pinterest-downloader/pinterest-downloader.py'\n",
    "\n",
    "# Load the module\n",
    "spec = importlib.util.spec_from_file_location(\"pinterest_downloader_module\", file_path)\n",
    "pinterest_downloader_module = importlib.util.module_from_spec(spec)\n",
    "sys.modules[\"pinterest_downloader_module\"] = pinterest_downloader_module\n",
    "spec.loader.exec_module(pinterest_downloader_module)\n",
    "\n",
    "# Now you can access the function run_library_main\n",
    "image_urls = pinterest_downloader_module.run_library_main(**kwargs)"
   ]
  },
  {
   "cell_type": "code",
   "execution_count": 2,
   "metadata": {},
   "outputs": [
    {
     "data": {
      "text/plain": [
       "['https://i.pinimg.com/originals/a4/dd/16/a4dd16826c273e02b5ab40c6d8391821.jpg',\n",
       " 'https://i.pinimg.com/originals/5f/2e/5d/5f2e5d63d9ddddff37e0627ed6b8c5d6.jpg',\n",
       " 'https://i.pinimg.com/originals/5e/18/ff/5e18ff52c3fb173b1fbab5c1ca2b97fb.jpg',\n",
       " 'https://i.pinimg.com/originals/74/1d/85/741d85c13dcae6d8974d3f0af239b9fc.jpg',\n",
       " 'https://i.pinimg.com/originals/9b/28/83/9b2883f7ed65ff7316c9b9423005494d.jpg']"
      ]
     },
     "execution_count": 2,
     "metadata": {},
     "output_type": "execute_result"
    }
   ],
   "source": [
    "image_urls[:5]"
   ]
  },
  {
   "cell_type": "code",
   "execution_count": 3,
   "metadata": {},
   "outputs": [],
   "source": [
    "mood_board_image_urls = image_urls"
   ]
  },
  {
   "cell_type": "code",
   "execution_count": 4,
   "metadata": {},
   "outputs": [],
   "source": [
    "import json\n",
    "from openai import OpenAI\n",
    "client = OpenAI(api_key=json.load(open('secrets.json', 'r'))['OPENAI_KEY'])"
   ]
  },
  {
   "cell_type": "code",
   "execution_count": 5,
   "metadata": {},
   "outputs": [],
   "source": [
    "from pydantic import BaseModel\n",
    "\n",
    "class Step(BaseModel):\n",
    "    explanation: str\n",
    "    output: str\n",
    "\n",
    "class SearchQueryGeneration(BaseModel):\n",
    "    steps: list[Step]\n",
    "    final_answer: list[str]\n",
    "\n",
    "completion = client.beta.chat.completions.parse(\n",
    "    model=\"gpt-4o-2024-08-06\",\n",
    "    messages=[\n",
    "        {\n",
    "            \"role\": \"system\",\n",
    "            \"content\": (\n",
    "                \"You are a shopping assistant. Based on the mood board images provided, \"\n",
    "                \"generate a list of search queries to help the user find similar products. \"\n",
    "                \"Explain your reasoning step by step.\"\n",
    "            ),\n",
    "        },\n",
    "        {\n",
    "            \"role\": \"user\",\n",
    "            \"content\": [\n",
    "                {\"type\": \"text\", \"text\": \"Based on these images, what search queries should I use to find similar products?\"},\n",
    "            ] + [\n",
    "                {\n",
    "                    \"type\": \"image_url\",\n",
    "                    \"image_url\": {\n",
    "                        \"url\": i,\n",
    "                    },\n",
    "                } for i in mood_board_image_urls[:5]\n",
    "            ],\n",
    "        },\n",
    "    ],\n",
    "    response_format=SearchQueryGeneration,\n",
    ")\n",
    "\n",
    "search_query_results = completion.choices[0].message.parsed\n"
   ]
  },
  {
   "cell_type": "code",
   "execution_count": 6,
   "metadata": {},
   "outputs": [
    {
     "data": {
      "text/plain": [
       "{'steps': [{'explanation': 'The first image features a woman wearing an oversized gray sweater, a black skirt, black over-the-knee boots, and a dark scarf. This style is casual and stylish, suitable for fall/winter. Key items include the chunky knit sweater and over-the-knee boots.',\n",
       "   'output': '\"oversized gray sweater women\", \"chunky knit sweater fall outfit\", \"black over-the-knee boots women\"'},\n",
       "  {'explanation': 'The second image shows a woman in a black outfit with gold accents, including a leopard-print scarf, studded shorts, and black over-the-knee boots. The focus is on bold accessories and sleek styling.',\n",
       "   'output': '\"black over-the-knee boots women\", \"leopard print scarf\", \"studded shorts women\", \"black gold accent outfit\"'},\n",
       "  {'explanation': 'The third image has a woman in a white blazer, black shorts, and black over-the-knee boots, which is a more polished look. The white blouse with a bow tie adds elegance.',\n",
       "   'output': '\"white blazer women\", \"black high-waist shorts outfit\", \"elegant white bow tie blouse\", \"black over-the-knee boots\"'},\n",
       "  {'explanation': 'The fourth image shows a woman wearing a cream cable knit sweater with red over-the-knee boots. The look is casual yet eye-catching with the bold boots.',\n",
       "   'output': '\"cream cable knit sweater women\", \"red over-the-knee boots\", \"fall winter casual outfit\"'},\n",
       "  {'explanation': 'The last image features a woman in a green military jacket, brown boots, leggings, and a black handbag, which is casual and utility-inspired.',\n",
       "   'output': '\"green military jacket women\", \"brown knee-high boots\", \"black oversized handbag\"'}],\n",
       " 'final_answer': ['oversized gray sweater women',\n",
       "  'chunky knit sweater fall outfit',\n",
       "  'black over-the-knee boots women',\n",
       "  'leopard print scarf',\n",
       "  'studded shorts women',\n",
       "  'black gold accent outfit',\n",
       "  'white blazer women',\n",
       "  'black high-waist shorts outfit',\n",
       "  'elegant white bow tie blouse',\n",
       "  'red over-the-knee boots',\n",
       "  'cream cable knit sweater women',\n",
       "  'green military jacket women',\n",
       "  'brown knee-high boots',\n",
       "  'black oversized handbag']}"
      ]
     },
     "execution_count": 6,
     "metadata": {},
     "output_type": "execute_result"
    }
   ],
   "source": [
    "search_query_results.dict()"
   ]
  },
  {
   "cell_type": "code",
   "execution_count": 7,
   "metadata": {},
   "outputs": [],
   "source": [
    "queries = search_query_results.final_answer"
   ]
  },
  {
   "cell_type": "code",
   "execution_count": 8,
   "metadata": {},
   "outputs": [],
   "source": [
    "query = queries[0]"
   ]
  },
  {
   "cell_type": "code",
   "execution_count": 9,
   "metadata": {},
   "outputs": [
    {
     "data": {
      "text/plain": [
       "'oversized gray sweater women'"
      ]
     },
     "execution_count": 9,
     "metadata": {},
     "output_type": "execute_result"
    }
   ],
   "source": [
    "query"
   ]
  },
  {
   "cell_type": "code",
   "execution_count": 14,
   "metadata": {},
   "outputs": [],
   "source": [
    "query = \"red shirt retro vibe\""
   ]
  },
  {
   "cell_type": "code",
   "execution_count": 24,
   "metadata": {},
   "outputs": [],
   "source": [
    "BAD_KEYWORDS = [\n",
    "    'support.google',\n",
    "    'accounts.google',\n",
    "    'maps.google'\n",
    "]"
   ]
  },
  {
   "cell_type": "code",
   "execution_count": 25,
   "metadata": {},
   "outputs": [
    {
     "name": "stdout",
     "output_type": "stream",
     "text": [
      "/search%3Fq%3Dred%2Bshirt%2Bretro%2Bvibe%2B%2522price%2522%2B%2522add%2Bto%2Bcart%2522%26sca_esv%3D7c704608065062ea%26hl%3Den-CA%26gbv%3D1%26ie%3DUTF-8%26tbm%3Dshop%26source%3Dlnms%26ved%3D1t:200713%26ictx%3D111\n",
      "https://maps.google.com/maps%3Fhl%3Den-CA%26q%3Dred%2Bshirt%2Bretro%2Bvibe%2B%2522price%2522%2B%2522add%2Bto%2Bcart%2522%26iflsig%3DAL9hbdgAAAAAZwCmjCqN3GL4fAnKBbWJnrHTVrbdWZ1f%26gbv%3D1%26um%3D1%26ie%3DUTF-8%26ved%3D1t:200713%26ictx%3D111\n",
      "https://www.etsy.com/ca/listing/1026940735/retro-shirt-good-vibes-shirt-peace-shirt\n",
      "https://www.differentstreamsrecords.com/product-page/vibe-up-unisex-jersey-short-sleeve-tee-4\n",
      "https://www.hoodieisland.com/products/slowdive-vintage-vibe-red-logo-t-shirt\n",
      "https://www.etsy.com/dk-en/listing/1036574717/the-bad-batch-shirt-retro-sixties-vibe%3Fref%3Dap-listing\n",
      "https://www.amazon.com/Rainbow-Yellow-Retro-Premium-T-Shirt/dp/B07SXDRDSH\n",
      "https://aspen-company.com/collections/retro-vibes%3Fsrsltid%3DAfmBOoqDmrZKpEQNIDY3_bdZJj0HgI9UxGHnmGmaJqBtZAVlygIkZDOW\n",
      "https://horsevibes.ca/en/products/chandail-a-manche-courte-rouge-adulte\n",
      "https://www.amazon.com/VINTAGE-LOBSTER-UNIQUE-MARINE-T-Shirt/dp/B09ZRPHBDC\n",
      "https://vibecustomshirts.com/collections/sale%3Fsrsltid%3DAfmBOop7U3oQvNhD4vI9Bk5k5U7MDg_pRnIyfEpVFRI4u7eu9wM7L_gW\n",
      "https://www.ebay.ca/itm/123828896185%3Fhash%3Ditem1cd4c701b9:g:l7UAAOSwDm1dI2NL%26var%3D424523403196\n",
      "https://support.google.com/websearch%3Fp%3Dws_settings_location%26hl%3Den-CA\n",
      "https://accounts.google.com/ServiceLogin%3Fcontinue%3Dhttps://www.google.com/search%253Fie%253DISO-8859-1%2526hl%253Den-CA%2526source%253Dhp%2526q%253Dred%252Bshirt%252Bretro%252Bvibe%252B%252522price%252522%252B%252522add%252Bto%252Bcart%252522%2526btnG%253DGoogle%252BSearch%2526iflsig%253DAL9hbdgAAAAAZwCmjCqN3GL4fAnKBbWJnrHTVrbdWZ1f%2526gbv%253D1%26hl%3Den\n"
     ]
    }
   ],
   "source": [
    "import re\n",
    "\n",
    "import mechanicalsoup\n",
    "\n",
    "\n",
    "# Connect to Google\n",
    "browser = mechanicalsoup.StatefulBrowser()\n",
    "browser.open(\"https://www.google.com/\")\n",
    "\n",
    "# Fill-in the form\n",
    "browser.select_form('form[action=\"/search\"]')\n",
    "browser[\"q\"] = f'{query} \"price\" \"add to cart\"' \n",
    "# Note: the button name is btnK in the content served to actual\n",
    "# browsers, but btnG for bots.\n",
    "browser.submit_selected(btnName=\"btnG\")\n",
    "target_urls = []\n",
    "# Display links\n",
    "for link in browser.links():\n",
    "    target = link.attrs['href']\n",
    "    # Filter-out unrelated links and extract actual URL from Google's\n",
    "    # click-tracking.\n",
    "    if (target.startswith('/url?') and not\n",
    "            target.startswith(\"/url?q=http://webcache.googleusercontent.com\")):\n",
    "        target = re.sub(r\"^/url\\?q=([^&]*)&.*\", r\"\\1\", target)\n",
    "        print(target)\n",
    "        if target.startswith('https') and not any(i in target for i in BAD_KEYWORDS):\n",
    "            target_urls.append(target)"
   ]
  },
  {
   "cell_type": "code",
   "execution_count": 26,
   "metadata": {},
   "outputs": [
    {
     "data": {
      "text/plain": [
       "['https://www.etsy.com/ca/listing/1026940735/retro-shirt-good-vibes-shirt-peace-shirt',\n",
       " 'https://www.differentstreamsrecords.com/product-page/vibe-up-unisex-jersey-short-sleeve-tee-4',\n",
       " 'https://www.hoodieisland.com/products/slowdive-vintage-vibe-red-logo-t-shirt',\n",
       " 'https://www.etsy.com/dk-en/listing/1036574717/the-bad-batch-shirt-retro-sixties-vibe%3Fref%3Dap-listing',\n",
       " 'https://www.amazon.com/Rainbow-Yellow-Retro-Premium-T-Shirt/dp/B07SXDRDSH',\n",
       " 'https://aspen-company.com/collections/retro-vibes%3Fsrsltid%3DAfmBOoqDmrZKpEQNIDY3_bdZJj0HgI9UxGHnmGmaJqBtZAVlygIkZDOW',\n",
       " 'https://horsevibes.ca/en/products/chandail-a-manche-courte-rouge-adulte',\n",
       " 'https://www.amazon.com/VINTAGE-LOBSTER-UNIQUE-MARINE-T-Shirt/dp/B09ZRPHBDC',\n",
       " 'https://vibecustomshirts.com/collections/sale%3Fsrsltid%3DAfmBOop7U3oQvNhD4vI9Bk5k5U7MDg_pRnIyfEpVFRI4u7eu9wM7L_gW',\n",
       " 'https://www.ebay.ca/itm/123828896185%3Fhash%3Ditem1cd4c701b9:g:l7UAAOSwDm1dI2NL%26var%3D424523403196']"
      ]
     },
     "execution_count": 26,
     "metadata": {},
     "output_type": "execute_result"
    }
   ],
   "source": [
    "target_urls"
   ]
  },
  {
   "cell_type": "code",
   "execution_count": 56,
   "metadata": {},
   "outputs": [],
   "source": [
    "from bs4 import BeautifulSoup\n",
    "import requests\n",
    "\n",
    "def url_to_html(url):\n",
    "    # Fetch the HTML content from the URL\n",
    "    response = requests.get(url)\n",
    "    if response.status_code == 200:\n",
    "        return response.text\n",
    "    else:\n",
    "        print(f\"Failed to fetch URL: {response.status_code}\")\n",
    "        return None\n",
    "\n",
    "def clean_html(html_content):\n",
    "    # Parse the HTML content\n",
    "    soup = BeautifulSoup(html_content, 'html.parser')\n",
    "\n",
    "    # Remove unuseful parts of the HTML\n",
    "    for tag in soup(['script', 'style', 'nav', 'footer', 'header', 'aside']):\n",
    "        tag.decompose()  # Completely remove the tag and its contents\n",
    "\n",
    "    # Optionally, remove specific classes or IDs\n",
    "    unuseful_classes = ['ad-banner', 'popup', 'newsletter-signup']\n",
    "    unuseful_ids = ['sidebar', 'comments', 'related-articles']\n",
    "\n",
    "    for cls in unuseful_classes:\n",
    "        for tag in soup.find_all(class_=cls):\n",
    "            tag.decompose()\n",
    "\n",
    "    for id_ in unuseful_ids:\n",
    "        for tag in soup.find_all(id=id_):\n",
    "            tag.decompose()\n",
    "\n",
    "    # Return the cleaned HTML\n",
    "    return soup.prettify()"
   ]
  },
  {
   "cell_type": "code",
   "execution_count": 57,
   "metadata": {},
   "outputs": [],
   "source": [
    "url = target_urls[1]"
   ]
  },
  {
   "cell_type": "code",
   "execution_count": 58,
   "metadata": {},
   "outputs": [],
   "source": [
    "html = url_to_html(url)"
   ]
  },
  {
   "cell_type": "code",
   "execution_count": 59,
   "metadata": {},
   "outputs": [
    {
     "data": {
      "text/plain": [
       "1170398"
      ]
     },
     "execution_count": 59,
     "metadata": {},
     "output_type": "execute_result"
    }
   ],
   "source": [
    "len(html)"
   ]
  },
  {
   "cell_type": "code",
   "execution_count": 62,
   "metadata": {},
   "outputs": [],
   "source": [
    "simple_html = clean_html(html)"
   ]
  },
  {
   "cell_type": "code",
   "execution_count": 63,
   "metadata": {},
   "outputs": [
    {
     "data": {
      "text/plain": [
       "37172"
      ]
     },
     "execution_count": 63,
     "metadata": {},
     "output_type": "execute_result"
    }
   ],
   "source": [
    "len(simple_html)"
   ]
  },
  {
   "cell_type": "code",
   "execution_count": 66,
   "metadata": {},
   "outputs": [],
   "source": [
    "# print(simple_html)"
   ]
  },
  {
   "cell_type": "code",
   "execution_count": 69,
   "metadata": {},
   "outputs": [
    {
     "data": {
      "text/plain": [
       "<openai.OpenAI at 0x7fb490545630>"
      ]
     },
     "execution_count": 69,
     "metadata": {},
     "output_type": "execute_result"
    }
   ],
   "source": [
    "client"
   ]
  },
  {
   "cell_type": "code",
   "execution_count": 70,
   "metadata": {},
   "outputs": [
    {
     "name": "stdout",
     "output_type": "stream",
     "text": [
      "product_name='Vibe Up Red Tee' product_description=\"This classic unisex jersey short sleeve tee fits like a well-loved favorite. Soft cotton and quality print make users fall in love with it over and over again. These t-shirts have-ribbed knit collars to bolster shaping. The shoulders are tapered for a better fit over time. Dual side seams hold the garment's shape for longer. .: 100% Airlume combed and ringspun cotton (fiber content may vary for different colors).: Light fabric (4.2 oz/yd² (142 g/m²)).: Retail fit.: Tear away label.: Runs true to size\" material='100% Airlume combed and ringspun cotton' dimensions_size='Retail fit' price=20.0 currency='USD' availability='InStock' image_url='https://static.wixstatic.com/media/afcd16_5d7cc0e0f2cc41328cace19e24b204b7~mv2.jpg/v1/fit/w_500,h_500,q_90/file.jpg' category='Clothing' color='Red'\n"
     ]
    }
   ],
   "source": [
    "from pydantic import BaseModel, Field\n",
    "from openai import OpenAI\n",
    "from typing import Union\n",
    "from enum import Enum\n",
    "\n",
    "# # Create an instance of the OpenAI client to interact with the API\n",
    "# client = OpenAI()\n",
    "\n",
    "# Enum to represent extraction status\n",
    "class ExtractionStatus(str, Enum):\n",
    "    SUCCESS = \"success\"\n",
    "    FAIL = \"fail\"\n",
    "\n",
    "# Define the simplified Pydantic model for structured data extraction\n",
    "# This model defines the fields that we want to extract from the HTML input\n",
    "class ProductExtraction(BaseModel):\n",
    "    product_name: str  # Product name\n",
    "    product_description: str  # Product description\n",
    "    material: str = None  # Material details (optional, may not apply to all products)\n",
    "    dimensions_size: str = None  # Product dimensions or size (e.g., size, length, height, weight)\n",
    "    price: float  # Product price\n",
    "    currency: str  # Currency of the price (e.g., USD)\n",
    "    availability: str  # Availability status (e.g., InStock)\n",
    "    image_url: str  # URL of the product image\n",
    "    category: str  # Product category (e.g., fashion, home decor)\n",
    "    color: str = None  # Color option of the product (optional)\n",
    "\n",
    "# Wrapper class to handle extraction result, including status and failure reasons\n",
    "class HtmlExtraction(BaseModel):\n",
    "    status: ExtractionStatus  # Status of the extraction\n",
    "    product: Union[ProductExtraction, None] = None  # Product data if extraction is successful\n",
    "    fail_reason: str = None  # Reason for failure, if applicable\n",
    "\n",
    "# System prompt for structured data extraction\n",
    "# This prompt instructs the model on how to process the provided HTML text\n",
    "system_prompt = (\n",
    "    \"You are an expert in extracting structured e-commerce data. \"\n",
    "    \"You will be provided with HTML text from an e-commerce website. \"\n",
    "    \"Your task is to parse the HTML and extract details such as product name, price, image, and other specifications \"\n",
    "    \"into a predefined structure.\"\n",
    ")\n",
    "\n",
    "# Define the completion call with the structured output response format\n",
    "# This makes a request to the OpenAI API to parse the HTML and extract data using the defined schema\n",
    "completion = client.beta.chat.completions.parse(\n",
    "    model=\"gpt-4o-2024-08-06\",  # Specify the model to use\n",
    "    messages=[\n",
    "        {\"role\": \"system\", \"content\": system_prompt},  # System-level prompt for guidance\n",
    "        {\"role\": \"user\", \"content\": simple_html}  # User-provided HTML content for parsing\n",
    "    ],\n",
    "    response_format=HtmlExtraction,  # Specify the response format to match the HtmlExtraction model\n",
    ")\n",
    "\n",
    "# Accessing the extracted product details from the completion response\n",
    "extraction_result = completion.choices[0].message.parsed\n",
    "\n",
    "# Check the extraction status and print appropriate information\n",
    "if extraction_result.status == ExtractionStatus.SUCCESS:\n",
    "    print(extraction_result.product)\n",
    "else:\n",
    "    print(f\"Extraction failed: {extraction_result.fail_reason}\")"
   ]
  },
  {
   "cell_type": "code",
   "execution_count": 73,
   "metadata": {},
   "outputs": [
    {
     "data": {
      "text/plain": [
       "'https://www.differentstreamsrecords.com/product-page/vibe-up-unisex-jersey-short-sleeve-tee-4'"
      ]
     },
     "execution_count": 73,
     "metadata": {},
     "output_type": "execute_result"
    }
   ],
   "source": [
    "url"
   ]
  },
  {
   "cell_type": "code",
   "execution_count": 72,
   "metadata": {},
   "outputs": [
    {
     "data": {
      "text/plain": [
       "{'status': <ExtractionStatus.SUCCESS: 'success'>,\n",
       " 'product': {'product_name': 'Vibe Up Red Tee',\n",
       "  'product_description': \"This classic unisex jersey short sleeve tee fits like a well-loved favorite. Soft cotton and quality print make users fall in love with it over and over again. These t-shirts have-ribbed knit collars to bolster shaping. The shoulders are tapered for a better fit over time. Dual side seams hold the garment's shape for longer. .: 100% Airlume combed and ringspun cotton (fiber content may vary for different colors).: Light fabric (4.2 oz/yd² (142 g/m²)).: Retail fit.: Tear away label.: Runs true to size\",\n",
       "  'material': '100% Airlume combed and ringspun cotton',\n",
       "  'dimensions_size': 'Retail fit',\n",
       "  'price': 20.0,\n",
       "  'currency': 'USD',\n",
       "  'availability': 'InStock',\n",
       "  'image_url': 'https://static.wixstatic.com/media/afcd16_5d7cc0e0f2cc41328cace19e24b204b7~mv2.jpg/v1/fit/w_500,h_500,q_90/file.jpg',\n",
       "  'category': 'Clothing',\n",
       "  'color': 'Red'},\n",
       " 'fail_reason': ''}"
      ]
     },
     "execution_count": 72,
     "metadata": {},
     "output_type": "execute_result"
    }
   ],
   "source": [
    "extraction_result.dict()"
   ]
  },
  {
   "cell_type": "code",
   "execution_count": null,
   "metadata": {},
   "outputs": [],
   "source": []
  }
 ],
 "metadata": {
  "kernelspec": {
   "display_name": "Python 3",
   "language": "python",
   "name": "python3"
  },
  "language_info": {
   "codemirror_mode": {
    "name": "ipython",
    "version": 3
   },
   "file_extension": ".py",
   "mimetype": "text/x-python",
   "name": "python",
   "nbconvert_exporter": "python",
   "pygments_lexer": "ipython3",
   "version": "3.10.12"
  }
 },
 "nbformat": 4,
 "nbformat_minor": 2
}
